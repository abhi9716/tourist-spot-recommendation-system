{
 "cells": [
  {
   "cell_type": "code",
   "execution_count": 61,
   "metadata": {},
   "outputs": [],
   "source": [
    "from selenium import webdriver\n",
    "from selenium.webdriver.common.keys import Keys\n",
    "from selenium.webdriver.support.ui import WebDriverWait\n",
    "# from selenium.webdriver.common.keys import Keys\n",
    "from selenium.webdriver.firefox.options import Options\n",
    "from bs4 import BeautifulSoup\n",
    "import pandas as pd\n",
    "import re\n",
    "import os\n",
    "import time\n",
    "import requests"
   ]
  },
  {
   "cell_type": "code",
   "execution_count": 75,
   "metadata": {},
   "outputs": [],
   "source": [
    "driver = webdriver.Firefox()\n",
    "# driver.implicitly_wait(60)\n",
    "driver.maximize_window()\n",
    "driver.get(\"https://www.tripadvisor.in/Tourism-g297686-Uttarakhand-Vacations.html\")"
   ]
  },
  {
   "cell_type": "code",
   "execution_count": 5,
   "metadata": {},
   "outputs": [],
   "source": [
    "df=pd.DataFrame(columns=[\"place\",\"reviews\"])"
   ]
  },
  {
   "cell_type": "code",
   "execution_count": 76,
   "metadata": {},
   "outputs": [],
   "source": [
    "k=(driver.find_elements_by_css_selector(\"#lithium-root > main > div._1HQROFP > div:nth-child(2) > div > div._3ssW018g > div > div.n6kqTbuQ > div > ul > li > div._1lp0l90B > a\"))\n"
   ]
  },
  {
   "cell_type": "code",
   "execution_count": 77,
   "metadata": {},
   "outputs": [
    {
     "data": {
      "text/plain": [
       "10"
      ]
     },
     "execution_count": 77,
     "metadata": {},
     "output_type": "execute_result"
    }
   ],
   "source": [
    "len(k)"
   ]
  },
  {
   "cell_type": "code",
   "execution_count": 78,
   "metadata": {},
   "outputs": [],
   "source": [
    "links=[]\n",
    "for j in k:\n",
    "    links.append(j.get_attribute(\"href\"))"
   ]
  },
  {
   "cell_type": "code",
   "execution_count": 79,
   "metadata": {},
   "outputs": [
    {
     "data": {
      "text/plain": [
       "['https://www.tripadvisor.in/Tourism-g297689-Mussoorie_Dehradun_District_Uttarakhand-Vacations.html',\n",
       " 'https://www.tripadvisor.in/Tourism-g660548-Nainital_Nainital_District_Uttarakhand-Vacations.html',\n",
       " 'https://www.tripadvisor.in/Tourism-g580106-Rishikesh_Dehradun_District_Uttarakhand-Vacations.html',\n",
       " 'https://www.tripadvisor.in/Tourism-g1152784-Jim_Corbett_National_Park_Nainital_District_Uttarakhand-Vacations.html',\n",
       " 'https://www.tripadvisor.in/Tourism-g616028-Haridwar_Haridwar_District_Uttarakhand-Vacations.html',\n",
       " 'https://www.tripadvisor.in/Tourism-g1208973-Lansdowne_Pauri_Garhwal_District_Uttarakhand-Vacations.html',\n",
       " 'https://www.tripadvisor.in/Tourism-g679051-Bhimtal_Nainital_District_Uttarakhand-Vacations.html',\n",
       " 'https://www.tripadvisor.in/Tourism-g297687-Dehradun_Dehradun_District_Uttarakhand-Vacations.html',\n",
       " 'https://www.tripadvisor.in/Tourism-g1162527-Mukteshwar_Nainital_District_Uttarakhand-Vacations.html',\n",
       " 'https://www.tripadvisor.in/Tourism-g1045172-Kausani_Bageshwar_District_Uttarakhand-Vacations.html']"
      ]
     },
     "execution_count": 79,
     "metadata": {},
     "output_type": "execute_result"
    }
   ],
   "source": [
    "links"
   ]
  },
  {
   "cell_type": "code",
   "execution_count": null,
   "metadata": {},
   "outputs": [],
   "source": [
    "place=[]\n",
    "reviews=[]\n",
    "\n",
    "for d,link in enumerate(links[0:]):\n",
    "    print(d)\n",
    "    driver.get(link)\n",
    "    time.sleep(4)\n",
    "    lnk=[]\n",
    "    k=(driver.find_elements_by_css_selector(\"#lithium-root > main > div._1HQROFP > div:nth-child(2) > div > div._2JGsjxnm > div > div.n6kqTbuQ > div > ul > li > div._1lp0l90B > a\"))\n",
    "    for j in k:\n",
    "        lnk.append(j.get_attribute(\"href\"))\n",
    "    print(len(lnk))\n",
    "    print(link)\n",
    "    for i in lnk:\n",
    "        driver.get(i)\n",
    "        time.sleep(4)\n",
    "        try:\n",
    "            for i in range(5):\n",
    "                col=driver.find_elements_by_css_selector('q.location-review-review-list-parts-ExpandableReview__reviewText--gOmRC')\n",
    "                soup = BeautifulSoup(driver.page_source)\n",
    "                l=soup.select(\"a.ui_button.nav.next.primary\")[0]\n",
    "\n",
    "                for i in range(len(col)):\n",
    "                    place.append(driver.find_elements_by_id('HEADING')[0].text)\n",
    "                    reviews.append(col[i].text)\n",
    "                driver.find_elements_by_css_selector('a.ui_button.nav.next.primary')[0].click()\n",
    "                time.sleep(3)\n",
    "    #             print(len(reviews))\n",
    "            print(len(reviews))\n",
    "        except:\n",
    "            pass\n",
    "        "
   ]
  },
  {
   "cell_type": "code",
   "execution_count": 69,
   "metadata": {},
   "outputs": [],
   "source": [
    "df.place=place\n",
    "df.reviews=reviews"
   ]
  },
  {
   "cell_type": "code",
   "execution_count": 73,
   "metadata": {},
   "outputs": [
    {
     "data": {
      "text/plain": [
       "1770"
      ]
     },
     "execution_count": 73,
     "metadata": {},
     "output_type": "execute_result"
    }
   ],
   "source": [
    "len(df)"
   ]
  },
  {
   "cell_type": "code",
   "execution_count": 74,
   "metadata": {},
   "outputs": [],
   "source": [
    "df.to_csv(\"reviews.csv\",index=False)"
   ]
  },
  {
   "cell_type": "code",
   "execution_count": null,
   "metadata": {},
   "outputs": [],
   "source": []
  }
 ],
 "metadata": {
  "kernelspec": {
   "display_name": "Python 3",
   "language": "python",
   "name": "python3"
  },
  "language_info": {
   "codemirror_mode": {
    "name": "ipython",
    "version": 3
   },
   "file_extension": ".py",
   "mimetype": "text/x-python",
   "name": "python",
   "nbconvert_exporter": "python",
   "pygments_lexer": "ipython3",
   "version": "3.7.7"
  }
 },
 "nbformat": 4,
 "nbformat_minor": 2
}
